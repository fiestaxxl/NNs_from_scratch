{
 "cells": [
  {
   "cell_type": "code",
   "execution_count": 1,
   "metadata": {},
   "outputs": [],
   "source": [
    "from rnns import RNN_completed, RNN_stupid\n",
    "import numpy as np\n",
    "from utils import create_datasets, generate_dataset, sequences_to_dicts, train, one_hot_encode_sequence\n",
    "%matplotlib inline"
   ]
  },
  {
   "cell_type": "code",
   "execution_count": 2,
   "metadata": {},
   "outputs": [],
   "source": [
    "sequences = generate_dataset()\n",
    "training_set, validation_set, test_set = create_datasets(sequences)\n",
    "word_to_idx, idx_to_word, num_sequences, vocab_size = sequences_to_dicts(sequences)\n",
    "\n",
    "# Hyper-parameters\n",
    "num_epochs = 600\n",
    "hidden_size = 50\n",
    "lr = 0.001\n",
    "\n",
    "# Initialize a new network\n",
    "rnn = RNN_completed(hidden_size=hidden_size, vocab_size=vocab_size)\n"
   ]
  },
  {
   "cell_type": "code",
   "execution_count": 3,
   "metadata": {},
   "outputs": [
    {
     "name": "stdout",
     "output_type": "stream",
     "text": [
      "\n",
      "Epoch 0, training loss: 5.3724269417442265, validation loss: 14.083258780736397\n",
      "\n",
      "Epoch 25, training loss: 1.276122536089805, validation loss: 1.4634791099764906\n",
      "\n",
      "Epoch 50, training loss: 1.0589003639970926, validation loss: 1.387429892081999\n",
      "\n",
      "Epoch 75, training loss: 0.9739525551218498, validation loss: 1.3501574418244124\n",
      "\n",
      "Epoch 100, training loss: 0.9427671023937316, validation loss: 1.317520255072987\n",
      "\n",
      "Epoch 125, training loss: 0.966092918675509, validation loss: 1.2852132392157736\n",
      "\n",
      "Epoch 150, training loss: 0.9629729097652098, validation loss: 1.254547957330872\n",
      "\n",
      "Epoch 175, training loss: 0.9495334776820112, validation loss: 1.2058264897165791\n",
      "\n",
      "Epoch 200, training loss: 0.9372880610300433, validation loss: 1.0804540628651063\n",
      "\n",
      "Epoch 225, training loss: 0.9249365861916061, validation loss: 1.1089723355139935\n",
      "\n",
      "Epoch 250, training loss: 0.89042595208641, validation loss: 1.108326835528909\n",
      "\n",
      "Epoch 275, training loss: 0.8504241343825619, validation loss: 1.0751733664629841\n",
      "\n",
      "Epoch 300, training loss: 0.8133333948719436, validation loss: 1.0307207791834818\n",
      "\n",
      "Epoch 325, training loss: 0.7908944396221124, validation loss: 0.9674614750099\n",
      "\n",
      "Epoch 350, training loss: 0.7763651470812465, validation loss: 0.8948453311413193\n",
      "\n",
      "Epoch 375, training loss: 0.7622593514942404, validation loss: 0.8676311424678655\n",
      "\n",
      "Epoch 400, training loss: 0.7540595789505905, validation loss: 0.8771689934298326\n",
      "\n",
      "Epoch 425, training loss: 0.7565136211736958, validation loss: 0.9109731026807169\n",
      "\n",
      "Epoch 450, training loss: 0.7583258502062666, validation loss: 0.898436857660999\n",
      "\n",
      "Epoch 475, training loss: 0.7494430838735571, validation loss: 0.8720521008236544\n",
      "\n",
      "Epoch 500, training loss: 0.7447036392285306, validation loss: 0.860150010098347\n",
      "\n",
      "Epoch 525, training loss: 0.7478524487962347, validation loss: 0.8607029021445161\n",
      "\n",
      "Epoch 550, training loss: 0.7536092135415101, validation loss: 0.8496729403584228\n",
      "\n",
      "Epoch 575, training loss: 0.7532795062262088, validation loss: 0.8297537972874947\n",
      "Input sentence:\n",
      "['a', 'a', 'b', 'b', 'c', 'c', 'e', 'e']\n",
      "\n",
      "Target sequence:\n",
      "['a', 'b', 'b', 'c', 'c', 'e', 'e', 'EOS']\n",
      "\n",
      "Predicted sequence:\n",
      "['a', 'a', 'b', 'c', 'c', 'e', 'e', 'EOS']\n"
     ]
    },
    {
     "data": {
      "image/png": "[encoded data removed]",
      "text/plain": [
       "<Figure size 640x480 with 1 Axes>"
      ]
     },
     "metadata": {},
     "output_type": "display_data"
    }
   ],
   "source": [
    "train(rnn, num_epochs, validation_set, training_set, test_set, idx_to_word, word_to_idx, vocab_size, lr)"
   ]
  },
  {
   "cell_type": "code",
   "execution_count": 6,
   "metadata": {},
   "outputs": [
    {
     "name": "stdout",
     "output_type": "stream",
     "text": [
      "Input sentence:\n",
      "['a', 'a', 'a', 'a', 'a', 'a', 'a', 'a', 'a', 'b', 'b', 'b', 'b', 'b', 'b', 'b', 'b', 'b', 'c', 'c', 'c', 'c', 'c', 'c', 'c', 'c', 'c', 'e', 'e', 'e', 'e', 'e', 'e', 'e', 'e', 'e']\n",
      "\n",
      "Target sequence:\n",
      "['a', 'a', 'a', 'a', 'a', 'a', 'a', 'a', 'b', 'b', 'b', 'b', 'b', 'b', 'b', 'b', 'b', 'c', 'c', 'c', 'c', 'c', 'c', 'c', 'c', 'c', 'e', 'e', 'e', 'e', 'e', 'e', 'e', 'e', 'e', 'EOS']\n",
      "\n",
      "Predicted sequence:\n",
      "['a', 'a', 'a', 'a', 'a', 'a', 'a', 'b', 'b', 'b', 'b', 'b', 'b', 'b', 'b', 'b', 'c', 'c', 'c', 'c', 'c', 'c', 'c', 'c', 'c', 'e', 'e', 'e', 'e', 'e', 'e', 'e', 'e', 'e', 'EOS', 'EOS']\n"
     ]
    }
   ],
   "source": [
    "# Get first sentence in test set\n",
    "inputs, targets = test_set[6]\n",
    "\n",
    "# One-hot encode input and target sequence\n",
    "inputs_one_hot = one_hot_encode_sequence(inputs, vocab_size, word_to_idx)\n",
    "targets_one_hot = one_hot_encode_sequence(targets, vocab_size, word_to_idx)\n",
    "\n",
    "# Initialize hidden state as zeros\n",
    "hidden_state = np.zeros((rnn.hidden_size,1))\n",
    "\n",
    "# Forward pass\n",
    "outputs, hidden_states = rnn(inputs_one_hot)\n",
    "output_sentence = [idx_to_word[np.argmax(output)] for output in outputs]\n",
    "print('Input sentence:')\n",
    "print(inputs)\n",
    "\n",
    "print('\\nTarget sequence:')\n",
    "print(targets)\n",
    "\n",
    "print('\\nPredicted sequence:')\n",
    "print([idx_to_word[np.argmax(output)] for output in outputs])"
   ]
  },
  {
   "cell_type": "code",
   "execution_count": null,
   "metadata": {},
   "outputs": [],
   "source": []
  }
 ],
 "metadata": {
  "kernelspec": {
   "display_name": "Python 3",
   "language": "python",
   "name": "python3"
  },
  "language_info": {
   "codemirror_mode": {
    "name": "ipython",
    "version": 3
   },
   "file_extension": ".py",
   "mimetype": "text/x-python",
   "name": "python",
   "nbconvert_exporter": "python",
   "pygments_lexer": "ipython3",
   "version": "3.10.12"
  }
 },
 "nbformat": 4,
 "nbformat_minor": 2
}
